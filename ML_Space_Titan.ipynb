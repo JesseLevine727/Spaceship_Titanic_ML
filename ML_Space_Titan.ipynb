{
 "cells": [
  {
   "cell_type": "code",
   "execution_count": 833,
   "metadata": {},
   "outputs": [],
   "source": [
    "from sklearn import datasets,linear_model\n",
    "from sklearn.preprocessing import LabelEncoder\n",
    "from sklearn.ensemble import RandomForestClassifier\n",
    "from sklearn.metrics import accuracy_score\n",
    "\n",
    "import pandas as pd\n",
    "import matplotlib.pyplot as plt\n",
    "import numpy as np"
   ]
  },
  {
   "cell_type": "code",
   "execution_count": 834,
   "metadata": {},
   "outputs": [],
   "source": [
    "space_titan_train = pd.read_csv(\"train_dim.csv\")\n",
    "space_titan_test = pd.read_csv('submission1226.csv')\n",
    "space_titan_data = pd.read_csv('test_dim.csv')\n"
   ]
  },
  {
   "cell_type": "code",
   "execution_count": 835,
   "metadata": {},
   "outputs": [],
   "source": [
    "space_titan_train_cat = space_titan_train.select_dtypes(object)\n",
    "space_titan_train_num = space_titan_train.select_dtypes(np.number)\n",
    "space_titan_train_bool = space_titan_train.select_dtypes(bool)\n",
    "\n",
    "space_titan_test_cat = space_titan_test.select_dtypes(object)\n",
    "space_titan_test_num = space_titan_test.select_dtypes(np.number)\n",
    "\n",
    "space_titan_data_cat = space_titan_data.select_dtypes(object)\n",
    "space_titan_data_num = space_titan_data.select_dtypes(np.number)"
   ]
  },
  {
   "cell_type": "code",
   "execution_count": 836,
   "metadata": {},
   "outputs": [],
   "source": [
    "space_titan_train_cat.drop(['PassengerId','Name'],axis=1,inplace = True)\n",
    "\n",
    "space_titan_test_cat.drop(['PassengerId'],axis=1,inplace = True)\n",
    "\n",
    "space_titan_data_cat.drop(['PassengerId','Name'],axis=1,inplace = True)"
   ]
  },
  {
   "cell_type": "code",
   "execution_count": 837,
   "metadata": {},
   "outputs": [],
   "source": [
    "space_titan_train_cat.HomePlanet.fillna(space_titan_train_cat.HomePlanet.value_counts().idxmax(),inplace=True)\n",
    "space_titan_train_cat.CryoSleep.fillna(space_titan_train_cat.CryoSleep.value_counts().idxmax(),inplace=True)\n",
    "space_titan_train_cat.Cabin.fillna(space_titan_train_cat.Cabin.value_counts().idxmax(),inplace=True)\n",
    "space_titan_train_cat.Destination.fillna(space_titan_train_cat.Destination.value_counts().idxmax(),inplace=True)\n",
    "space_titan_train_cat.VIP.fillna(space_titan_train_cat.VIP.value_counts().idxmax(),inplace=True)\n"
   ]
  },
  {
   "cell_type": "code",
   "execution_count": 838,
   "metadata": {},
   "outputs": [],
   "source": [
    "space_titan_data_cat.HomePlanet.fillna(space_titan_train_cat.HomePlanet.value_counts().idxmax(),inplace=True)\n",
    "space_titan_data_cat.CryoSleep.fillna(space_titan_train_cat.CryoSleep.value_counts().idxmax(),inplace=True)\n",
    "space_titan_data_cat.Cabin.fillna(space_titan_train_cat.Cabin.value_counts().idxmax(),inplace=True)\n",
    "space_titan_data_cat.Destination.fillna(space_titan_train_cat.Destination.value_counts().idxmax(),inplace=True)\n",
    "space_titan_data_cat.VIP.fillna(space_titan_train_cat.VIP.value_counts().idxmax(),inplace=True)"
   ]
  },
  {
   "cell_type": "code",
   "execution_count": 839,
   "metadata": {},
   "outputs": [],
   "source": [
    "space_titan_train_num.Age.fillna(space_titan_train_num.Age.mean(),inplace=True)\n",
    "space_titan_train_num.RoomService.fillna(space_titan_train_num.RoomService.mean(),inplace=True)\n",
    "space_titan_train_num.FoodCourt.fillna(space_titan_train_num.FoodCourt.mean(),inplace=True)\n",
    "space_titan_train_num.ShoppingMall.fillna(space_titan_train_num.ShoppingMall.mean(),inplace=True)\n",
    "space_titan_train_num.Spa.fillna(space_titan_train_num.Spa.mean(),inplace=True)\n",
    "space_titan_train_num.VRDeck.fillna(space_titan_train_num.VRDeck.mean(),inplace=True)\n"
   ]
  },
  {
   "cell_type": "code",
   "execution_count": 840,
   "metadata": {},
   "outputs": [],
   "source": [
    "space_titan_data_num.Age.fillna(space_titan_train_num.Age.mean(),inplace=True)\n",
    "space_titan_data_num.RoomService.fillna(space_titan_train_num.RoomService.mean(),inplace=True)\n",
    "space_titan_data_num.FoodCourt.fillna(space_titan_train_num.FoodCourt.mean(),inplace=True)\n",
    "space_titan_data_num.ShoppingMall.fillna(space_titan_train_num.ShoppingMall.mean(),inplace=True)\n",
    "space_titan_data_num.Spa.fillna(space_titan_train_num.Spa.mean(),inplace=True)\n",
    "space_titan_data_num.VRDeck.fillna(space_titan_train_num.VRDeck.mean(),inplace=True)"
   ]
  },
  {
   "cell_type": "code",
   "execution_count": 841,
   "metadata": {},
   "outputs": [],
   "source": [
    "le = LabelEncoder()\n",
    "\n",
    "space_titan_train_cat = space_titan_train_cat.apply(le.fit_transform)\n",
    "space_titan_train_bool = space_titan_train_bool.apply(le.fit_transform)\n",
    "\n",
    "space_titan_data_cat = space_titan_data_cat.apply(le.fit_transform)"
   ]
  },
  {
   "cell_type": "code",
   "execution_count": 842,
   "metadata": {},
   "outputs": [
    {
     "data": {
      "text/html": [
       "<div>\n",
       "<style scoped>\n",
       "    .dataframe tbody tr th:only-of-type {\n",
       "        vertical-align: middle;\n",
       "    }\n",
       "\n",
       "    .dataframe tbody tr th {\n",
       "        vertical-align: top;\n",
       "    }\n",
       "\n",
       "    .dataframe thead th {\n",
       "        text-align: right;\n",
       "    }\n",
       "</style>\n",
       "<table border=\"1\" class=\"dataframe\">\n",
       "  <thead>\n",
       "    <tr style=\"text-align: right;\">\n",
       "      <th></th>\n",
       "      <th>HomePlanet</th>\n",
       "      <th>CryoSleep</th>\n",
       "      <th>Cabin</th>\n",
       "      <th>Destination</th>\n",
       "      <th>VIP</th>\n",
       "      <th>Age</th>\n",
       "      <th>RoomService</th>\n",
       "      <th>FoodCourt</th>\n",
       "      <th>ShoppingMall</th>\n",
       "      <th>Spa</th>\n",
       "      <th>VRDeck</th>\n",
       "    </tr>\n",
       "  </thead>\n",
       "  <tbody>\n",
       "    <tr>\n",
       "      <th>0</th>\n",
       "      <td>0</td>\n",
       "      <td>1</td>\n",
       "      <td>2784</td>\n",
       "      <td>2</td>\n",
       "      <td>0</td>\n",
       "      <td>27.0</td>\n",
       "      <td>0.0</td>\n",
       "      <td>0.0</td>\n",
       "      <td>0.0</td>\n",
       "      <td>0.0</td>\n",
       "      <td>0.0</td>\n",
       "    </tr>\n",
       "    <tr>\n",
       "      <th>1</th>\n",
       "      <td>0</td>\n",
       "      <td>0</td>\n",
       "      <td>1867</td>\n",
       "      <td>2</td>\n",
       "      <td>0</td>\n",
       "      <td>19.0</td>\n",
       "      <td>0.0</td>\n",
       "      <td>9.0</td>\n",
       "      <td>0.0</td>\n",
       "      <td>2823.0</td>\n",
       "      <td>0.0</td>\n",
       "    </tr>\n",
       "    <tr>\n",
       "      <th>2</th>\n",
       "      <td>1</td>\n",
       "      <td>1</td>\n",
       "      <td>257</td>\n",
       "      <td>0</td>\n",
       "      <td>0</td>\n",
       "      <td>31.0</td>\n",
       "      <td>0.0</td>\n",
       "      <td>0.0</td>\n",
       "      <td>0.0</td>\n",
       "      <td>0.0</td>\n",
       "      <td>0.0</td>\n",
       "    </tr>\n",
       "    <tr>\n",
       "      <th>3</th>\n",
       "      <td>1</td>\n",
       "      <td>0</td>\n",
       "      <td>259</td>\n",
       "      <td>2</td>\n",
       "      <td>0</td>\n",
       "      <td>38.0</td>\n",
       "      <td>0.0</td>\n",
       "      <td>6652.0</td>\n",
       "      <td>0.0</td>\n",
       "      <td>181.0</td>\n",
       "      <td>585.0</td>\n",
       "    </tr>\n",
       "    <tr>\n",
       "      <th>4</th>\n",
       "      <td>0</td>\n",
       "      <td>0</td>\n",
       "      <td>1940</td>\n",
       "      <td>2</td>\n",
       "      <td>0</td>\n",
       "      <td>20.0</td>\n",
       "      <td>10.0</td>\n",
       "      <td>0.0</td>\n",
       "      <td>635.0</td>\n",
       "      <td>0.0</td>\n",
       "      <td>0.0</td>\n",
       "    </tr>\n",
       "  </tbody>\n",
       "</table>\n",
       "</div>"
      ],
      "text/plain": [
       "   HomePlanet  CryoSleep  Cabin  Destination  VIP   Age  RoomService  \\\n",
       "0           0          1   2784            2    0  27.0          0.0   \n",
       "1           0          0   1867            2    0  19.0          0.0   \n",
       "2           1          1    257            0    0  31.0          0.0   \n",
       "3           1          0    259            2    0  38.0          0.0   \n",
       "4           0          0   1940            2    0  20.0         10.0   \n",
       "\n",
       "   FoodCourt  ShoppingMall     Spa  VRDeck  \n",
       "0        0.0           0.0     0.0     0.0  \n",
       "1        9.0           0.0  2823.0     0.0  \n",
       "2        0.0           0.0     0.0     0.0  \n",
       "3     6652.0           0.0   181.0   585.0  \n",
       "4        0.0         635.0     0.0     0.0  "
      ]
     },
     "execution_count": 842,
     "metadata": {},
     "output_type": "execute_result"
    }
   ],
   "source": [
    "space_titan_train_full = pd.concat([space_titan_train_cat, space_titan_train_num,space_titan_train_bool],axis=1)\n",
    "\n",
    "\n",
    "space_titan_test_full = space_titan_test_num\n",
    "\n",
    "space_titan_data_full = pd.concat([space_titan_data_cat,space_titan_data_num],axis=1)\n",
    "space_titan_data_full.head()\n"
   ]
  },
  {
   "cell_type": "code",
   "execution_count": 843,
   "metadata": {},
   "outputs": [
    {
     "name": "stdout",
     "output_type": "stream",
     "text": [
      "[[1]\n",
      " [0]\n",
      " [1]\n",
      " ...\n",
      " [1]\n",
      " [1]\n",
      " [0]]\n"
     ]
    }
   ],
   "source": [
    "x = space_titan_train_full.drop(['Transported'],axis=1)\n",
    "y = space_titan_train_full['Transported']\n",
    "\n",
    "x_train = np.array(x[0:int(len(x))])\n",
    "y_train = np.array(y[0:int(len(y))])\n",
    "\n",
    "x_test = np.array(space_titan_data_full[0:int(len(space_titan_data_full))])\n",
    "y_ans = np.array(space_titan_test_full[0:int(len(space_titan_test_full))])\n",
    "print(y_ans)\n"
   ]
  },
  {
   "cell_type": "code",
   "execution_count": 844,
   "metadata": {},
   "outputs": [
    {
     "name": "stdout",
     "output_type": "stream",
     "text": [
      "[1 0 1 ... 1 1 1]\n",
      "87.93546878653261\n"
     ]
    }
   ],
   "source": [
    "RF = RandomForestClassifier()\n",
    "RF_fit = RF.fit(x_train,y_train)\n",
    "\n",
    "RF_pred = RF_fit.predict(x_test)\n",
    "print(RF_pred)\n",
    "print(accuracy_score(RF_pred,y_ans)*100)"
   ]
  },
  {
   "cell_type": "code",
   "execution_count": 845,
   "metadata": {},
   "outputs": [
    {
     "name": "stdout",
     "output_type": "stream",
     "text": [
      "[[0.31 0.69]\n",
      " [0.97 0.03]\n",
      " [0.   1.  ]\n",
      " ...\n",
      " [0.05 0.95]\n",
      " [0.11 0.89]\n",
      " [0.35 0.65]]\n"
     ]
    }
   ],
   "source": [
    "RF_pred_proba = RF_fit.predict_proba(x_test)\n",
    "print(RF_pred_proba)"
   ]
  }
 ],
 "metadata": {
  "kernelspec": {
   "display_name": "Python 3.9.12 ('base')",
   "language": "python",
   "name": "python3"
  },
  "language_info": {
   "codemirror_mode": {
    "name": "ipython",
    "version": 3
   },
   "file_extension": ".py",
   "mimetype": "text/x-python",
   "name": "python",
   "nbconvert_exporter": "python",
   "pygments_lexer": "ipython3",
   "version": "3.9.12"
  },
  "orig_nbformat": 4,
  "vscode": {
   "interpreter": {
    "hash": "8a14a2472eef1e25ec31a91dc4b419e4767afa0a9c410cd6f5140e336c1f1aba"
   }
  }
 },
 "nbformat": 4,
 "nbformat_minor": 2
}
